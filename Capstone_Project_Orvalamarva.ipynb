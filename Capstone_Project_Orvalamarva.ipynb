{
  "nbformat": 4,
  "nbformat_minor": 0,
  "metadata": {
    "colab": {
      "provenance": []
    },
    "kernelspec": {
      "name": "python3",
      "display_name": "Python 3"
    },
    "language_info": {
      "name": "python"
    }
  },
  "cells": [
    {
      "cell_type": "code",
      "source": [
        "!pip install langchain_community\n",
        "!pip install replicate\n",
        "!pip install pandas openpyxl\n",
        "import pandas as pd\n",
        "import numpy as np"
      ],
      "metadata": {
        "id": "RHM2fS1afTx6"
      },
      "execution_count": null,
      "outputs": []
    },
    {
      "cell_type": "markdown",
      "source": [
        "# Data Preparation"
      ],
      "metadata": {
        "id": "WkrCcDe9vYX1"
      }
    },
    {
      "cell_type": "code",
      "source": [
        "file_path = \"cover-letter-dataset.parquet\"\n",
        "\n",
        "# Kolom yang penting\n",
        "kolom_utama = ['Job Title', 'Cover Letter']\n",
        "\n",
        "print(\"Memuat data...\")\n",
        "df = pd.read_parquet(file_path)\n",
        "\n",
        "column_names = [\n",
        "    'Job Title', 'Preferred Qualifications', 'Hiring Company', 'Applicant Name',\n",
        "    'Past Working Experience', 'Current Working Experience', 'Skillsets',\n",
        "    'Qualifications', 'Cover Letter'\n",
        "]\n",
        "if len(df.columns) == len(column_names):\n",
        "    df.columns = column_names\n",
        "\n",
        "print(f\"Jumlah baris awal: {len(df)}\")"
      ],
      "metadata": {
        "colab": {
          "base_uri": "https://localhost:8080/"
        },
        "id": "fdawI9TOfQSg",
        "outputId": "ed49367e-52c3-461d-d7fd-16e308080049"
      },
      "execution_count": null,
      "outputs": [
        {
          "output_type": "stream",
          "name": "stdout",
          "text": [
            "Memuat data...\n",
            "Jumlah baris awal: 813\n"
          ]
        }
      ]
    },
    {
      "cell_type": "code",
      "source": [
        "# Kolom yang penting\n",
        "kolom_utama = ['Job Title', 'Cover Letter']\n",
        "\n",
        "# a. Normalisasi semua teks\n",
        "print(\"Membersihkan teks (lowercase, hapus spasi & baris baru)...\")\n",
        "for col in df.select_dtypes(include=['object']).columns:\n",
        "    if col in df.columns:\n",
        "        df[col] = df[col].astype(str).str.lower().str.strip()\n",
        "        df[col] = df[col].str.replace('\\n', ' ', regex=False)\n",
        "\n",
        "# b. Hapus baris jika kolom Job Title atau Cover Letter kosong\n",
        "print(\"Membuang baris dengan data 'Job Title' atau 'Cover Letter' yang kosong...\")\n",
        "rows_before = len(df)\n",
        "# Ganti string kosong '' dengan NaN (Not a Number) agar bisa di-drop\n",
        "df[kolom_utama] = df[kolom_utama].replace('', np.nan)\n",
        "df.dropna(subset=kolom_utama, inplace=True)\n",
        "rows_after = len(df)\n",
        "print(f\"-> {rows_before - rows_after} baris tidak lengkap dihapus.\")\n",
        "\n",
        "# c. Hapus duplikat berdasarkan kombinasi Job Title dan Cover Letter\n",
        "print(\"Membuang duplikat berdasarkan kombinasi 'Job Title' & 'Cover Letter'...\")\n",
        "rows_before = len(df)\n",
        "df.drop_duplicates(subset=kolom_utama, keep='first', inplace=True)\n",
        "rows_after = len(df)\n",
        "print(f\"-> {rows_before - rows_after} baris duplikat dihapus.\")"
      ],
      "metadata": {
        "colab": {
          "base_uri": "https://localhost:8080/"
        },
        "id": "lsLZkLZLk-Ni",
        "outputId": "6c3f60ed-445a-4bac-e733-cbafb5c49da0"
      },
      "execution_count": null,
      "outputs": [
        {
          "output_type": "stream",
          "name": "stdout",
          "text": [
            "Membersihkan teks (lowercase, hapus spasi & baris baru)...\n",
            "Membuang baris dengan data 'Job Title' atau 'Cover Letter' yang kosong...\n",
            "-> 0 baris tidak lengkap dihapus.\n",
            "Membuang duplikat berdasarkan kombinasi 'Job Title' & 'Cover Letter'...\n",
            "-> 54 baris duplikat dihapus.\n"
          ]
        }
      ]
    },
    {
      "cell_type": "code",
      "source": [
        "# Mengubah ke format string yang rapi untuk dimasukkan ke dalam prompt\n",
        "unique_job_titles = df['Job Title'].unique().tolist()\n",
        "job_title_options = \", \".join([f\"'{title}'\" for title in unique_job_titles])\n",
        "\n",
        "print(\"Dataset bersih berhasil dimuat.\")\n",
        "print(f\"Ditemukan {len(unique_job_titles)} Job Title unik.\")\n",
        "print(f\"Pilihan Job Title yang akan diberikan ke model:\")\n",
        "job_title_options"
      ],
      "metadata": {
        "colab": {
          "base_uri": "https://localhost:8080/",
          "height": 191
        },
        "id": "Y52tXDgorNgR",
        "outputId": "06fe1028-257b-4dd0-b1d5-92f85efe0b09"
      },
      "execution_count": null,
      "outputs": [
        {
          "output_type": "stream",
          "name": "stdout",
          "text": [
            "Dataset bersih berhasil dimuat.\n",
            "Ditemukan 51 Job Title unik.\n",
            "Pilihan Job Title yang akan diberikan ke model:\n"
          ]
        },
        {
          "output_type": "execute_result",
          "data": {
            "text/plain": [
              "\"'senior java developer', 'data scientist', 'senior data scientist', 'senior web developer', 'ai engineer', 'machine learning engineer', 'data engineer', 'analytics lead', 'senior database administrator', 'intermediate applied scientist', 'system administrator', 'senior machine learning engineer', 'senior data scientist  nlp', 'senior support engineer', 'network engineer', 'generative ai engineer', 'manager, data science and ml engineering', 'senior manager, supply chain analytics', 'mobile app developer', 'ai software developer', 'entry level data scientist', 'software developer', 'senior data scientist in the product research and development (pr&d) group', 'digital analytics consultant', 'lead data scientist', 'risk analytics tech lead', 'machine learning scientist', 'full stack developer', 'cloud engineer', 'senior software engineer', 'python engineer', 'data science/bioinformatics specialist', 'head of people analytics', 'data analyst', 'senior data analyst', 'machine learning developer', 'senior data scientist in generative ai', 'senior risk data analyst', 'data science delivery manager', 'backend engineer', 'java developer', 'sap ixp intern advanced data analytics, reporting and automation specialist', 'data science manager, people analytics', 'threat monitoring data scientist', 'machine learning geoscientist', 'business data analyst', 'director, data & analytics', 'senior data science analyst', 'machine learning (ml) engineer', 'assistant professor, department of computer science', 'quantitative data scientist'\""
            ],
            "application/vnd.google.colaboratory.intrinsic+json": {
              "type": "string"
            }
          },
          "metadata": {},
          "execution_count": 23
        }
      ]
    },
    {
      "cell_type": "markdown",
      "source": [
        "# Model IBM Granite"
      ],
      "metadata": {
        "id": "3oaA9tVSvTS-"
      }
    },
    {
      "cell_type": "code",
      "source": [
        "from langchain_community.llms import Replicate\n",
        "import os\n",
        "from google.colab import userdata\n",
        "# Set the API token\n",
        "api_token = userdata.get('REPLICATE_API_TOKEN')\n",
        "os.environ[\"REPLICATE_API_TOKEN\"] = api_token\n",
        "# Model setup\n",
        "model = \"ibm-granite/granite-3.3-8b-instruct\"\n",
        "output = Replicate(\n",
        "model=model,\n",
        "replicate_api_token=api_token,\n",
        ")"
      ],
      "metadata": {
        "id": "G8vfRX76tAlx"
      },
      "execution_count": null,
      "outputs": []
    },
    {
      "cell_type": "markdown",
      "source": [
        "# Classification Job Title"
      ],
      "metadata": {
        "id": "NsqvwhxIvMNC"
      }
    },
    {
      "cell_type": "code",
      "source": [
        "model_parameters = {\n",
        "    \"temperature\": 0.01,\n",
        "    \"top_k\": 1,\n",
        "    \"top_p\": 1.0,\n",
        "    \"max_tokens\": 50\n",
        "}\n",
        "\n",
        "unique_job_titles = df['Job Title'].unique().tolist()\n",
        "job_title_options = \", \".join([f\"'{title}'\" for title in unique_job_titles])\n",
        "\n",
        "prompt_template = \"\"\"\n",
        "Anda adalah seorang asisten HR yang sangat teliti dan ahli dalam memfilter surat lamaran kerja.\n",
        "Tugas Anda adalah membaca surat lamaran (Cover Letter) di bawah ini dan menentukan posisi pekerjaan (Job Title) mana yang paling sesuai untuk pelamar tersebut.\n",
        "\n",
        "Pilihlah HANYA SATU nama jabatan dari daftar berikut:\n",
        "{job_title_options}\n",
        "\n",
        "Berikut adalah contoh untuk memandu Anda:\n",
        "Contoh Surat Lamaran: \"With over five years in object-oriented programming, particularly Java and Spring Boot, I have successfully developed and deployed scalable microservices that have improved system efficiency by 20%. I am eager to bring my backend development skills to a new challenge.\"\n",
        "Contoh Jawaban: 'senior java developer'\n",
        "\n",
        "Sekarang, analisis surat lamaran di bawah ini.\n",
        "\n",
        "Surat Lamaran:\n",
        "\"{cover_letter}\"\n",
        "\n",
        "JAWAB HANYA dengan nama jabatannya saja dari daftar pilihan di atas, tanpa penjelasan atau format tambahan.\n",
        "\"\"\"\n",
        "\n",
        "# --- PROSES KLASIFIKASI ---\n",
        "# Diambil 3 sampel acak dari data untuk demonstrasi\n",
        "\n",
        "sample_data = df.sample(n=3, random_state=42)\n",
        "\n",
        "print(\"--- Memulai Proses Klasifikasi untuk 3 Sampel Acak ---\")\n",
        "\n",
        "for index, row in sample_data.iterrows():\n",
        "    cover_letter_text = row['Cover Letter']\n",
        "    actual_job_title = row['Job Title']\n",
        "\n",
        "    # Mengisi template dengan data spesifik dari baris ini\n",
        "    final_prompt = prompt_template.format(\n",
        "        job_title_options=job_title_options,\n",
        "        cover_letter=cover_letter_text\n",
        "    )\n",
        "\n",
        "    # Memanggil model\n",
        "    print(f\"\\n----- Menganalisis Baris ke-{index} -----\")\n",
        "    print(f\"Job Title Sebenarnya: {actual_job_title}\")\n",
        "\n",
        "    # Invoke the model\n",
        "    predicted_job_title = output.invoke(final_prompt).strip().lower().strip(\"'\")\n",
        "\n",
        "    print(f\"Prediksi Model: {predicted_job_title}\")\n",
        "\n",
        "    # Cek status\n",
        "    if predicted_job_title == actual_job_title:\n",
        "        print(\"Status: ✅ TEPAT\")\n",
        "    else:\n",
        "        print(\"Status: ❌ KURANG TEPAT\")\n",
        "\n",
        "print(\"\\n--- Proses Selesai ---\")"
      ],
      "metadata": {
        "colab": {
          "base_uri": "https://localhost:8080/"
        },
        "id": "hWDvU2O3sDMN",
        "outputId": "a47d4eea-5f22-4b7f-d85e-6c308daf3928"
      },
      "execution_count": null,
      "outputs": [
        {
          "output_type": "stream",
          "name": "stdout",
          "text": [
            "--- Memulai Proses Klasifikasi untuk 3 Sampel Acak ---\n",
            "\n",
            "----- Menganalisis Baris ke-410 -----\n",
            "Job Title Sebenarnya: data scientist\n",
            "Prediksi Model: data scientist\n",
            "Status: ✅ TEPAT\n",
            "\n",
            "----- Menganalisis Baris ke-542 -----\n",
            "Job Title Sebenarnya: network engineer\n",
            "Prediksi Model: network engineer\n",
            "Status: ✅ TEPAT\n",
            "\n",
            "----- Menganalisis Baris ke-101 -----\n",
            "Job Title Sebenarnya: system administrator\n",
            "Prediksi Model: system administrator\n",
            "Status: ✅ TEPAT\n",
            "\n",
            "--- Proses Selesai ---\n"
          ]
        }
      ]
    },
    {
      "cell_type": "markdown",
      "source": [
        "# Summarization Cover Letter"
      ],
      "metadata": {
        "id": "WZ-ZisAFxFgr"
      }
    },
    {
      "cell_type": "code",
      "source": [
        "summary_model_parameters = {\n",
        "    \"temperature\": 0.5,\n",
        "    \"top_p\": 0.9,\n",
        "    \"max_tokens\": 256,\n",
        "}\n",
        "\n",
        "summary_prompt_template = \"\"\"\n",
        "Anda adalah seorang Asisten Perekrutan (Recruitment Assistant) yang cerdas dan efisien.\n",
        "Tugas Anda adalah membaca Surat Lamaran (Cover Letter) di bawah ini dan membuat ringkasan terstruktur untuk membantu manajer perekrutan memahami profil kandidat dengan cepat.\n",
        "\n",
        "Gunakan format berikut, dan buat setiap poin ringkas dan informatif:\n",
        "- Ringkasan Pengalaman: [Sebutkan jumlah tahun pengalaman dan fokus utama kandidat]\n",
        "- Skillset Utama: [Sebutkan 3-5 skill, bahasa pemrograman, atau teknologi kunci yang disebutkan]\n",
        "- Posisi Relevan Sebelumnya: [Sebutkan 1-2 posisi atau perusahaan yang ditonjolkan dalam surat]\n",
        "\n",
        "Jika salah satu informasi di atas tidak dapat ditemukan dalam teks, tulis \"Tidak disebutkan\".\n",
        "\n",
        "Berikut adalah contoh yang baik untuk memandu Anda:\n",
        "Contoh Surat Lamaran: \"As a data professional with over 6 years of experience transforming raw data into actionable insights, I am excited to apply for this role. My expertise lies in Python, specifically with libraries like Pandas and Scikit-learn, and I have a proven track record of building predictive models at my previous role at XYZ Corporation. I am adept at SQL for data querying and Tableau for visualization.\"\n",
        "Contoh Jawaban:\n",
        "- Ringkasan Pengalaman: 6+ tahun pengalaman dalam mengubah data menjadi insight.\n",
        "- Skillset Utama: Python (Pandas, Scikit-learn), SQL, Tableau, Predictive Modeling.\n",
        "- Posisi Relevan Sebelumnya: Data Professional di XYZ Corporation.\n",
        "\n",
        "Sekarang, buat ringkasan untuk surat lamaran di bawah ini.\n",
        "\n",
        "Surat Lamaran:\n",
        "\"{cover_letter}\"\n",
        "\"\"\"\n",
        "\n",
        "# --- PROSES RINGKASAN ---\n",
        "sample_data_summary = df.sample(n=5, random_state=101)\n",
        "\n",
        "print(\"--- Memulai Proses Ringkasan untuk 5 Sampel Acak ---\")\n",
        "\n",
        "for index, row in sample_data_summary.iterrows():\n",
        "    cover_letter_text = row['Cover Letter']\n",
        "    job_title = row['Job Title']\n",
        "\n",
        "    # Mengisi template dengan cover letter dari baris ini\n",
        "    final_prompt = summary_prompt_template.format(cover_letter=cover_letter_text)\n",
        "\n",
        "    # Memanggil model\n",
        "    print(f\"\\n===== Meringkas untuk Posisi: {job_title.upper()} =====\")\n",
        "    print(\"\\n--- Cover Letter Asli ---\")\n",
        "    print(cover_letter_text)\n",
        "\n",
        "    # Invoke the model\n",
        "    summary_response = output.invoke(final_prompt)\n",
        "\n",
        "    print(\"\\n--- Ringkasan oleh Model Granite ---\")\n",
        "    print(summary_response)\n",
        "\n",
        "print(\"\\n--- Proses Selesai ---\")"
      ],
      "metadata": {
        "colab": {
          "base_uri": "https://localhost:8080/"
        },
        "id": "oyNfWzDFxEuK",
        "outputId": "570d9918-3b32-4d12-cd10-b7eb071ab2b8"
      },
      "execution_count": null,
      "outputs": [
        {
          "output_type": "stream",
          "name": "stdout",
          "text": [
            "--- Memulai Proses Ringkasan untuk 5 Sampel Acak ---\n",
            "\n",
            "===== Meringkas untuk Posisi: DATA SCIENTIST =====\n",
            "\n",
            "--- Cover Letter Asli ---\n",
            "dear hiring manager,  i am writing to express my interest in the data scientist position at xyz biotech. with my strong background in data analysis and experience in the pharmaceutical industry, i believe i would be a valuable asset to your team.  in my current role as a research scientist at xyz biotech, i have been responsible for developing data analysis strategies and presenting insights based on my analysis. i have also worked extensively with genetic and proteomic data, optimizing data sets for ease of access and traceability. my experience in the biotech industry has given me a deep understanding of the importance of data science in improving research and workflows.  i have a passion for science and medicine, and i thrive in fast-paced environments. my strong organizational and time management skills allow me to effectively handle multiple projects simultaneously. additionally, my excellent oral and written communication skills in english enable me to effectively collaborate with team members and present my findings to company leadership.  i am confident that my experience and qualifications make me a strong fit for the data scientist role at xyz biotech. i am excited about the opportunity to contribute to your data science strategy and help drive innovation in the field. thank you for considering my application.  sincerely, john smith\n",
            "\n",
            "--- Ringkasan oleh Model Granite ---\n",
            "- Ringkasan Pengalaman: 6+ tahun pengalaman dalam analisis data, terutama dalam industri farmasi bioteknologi.\n",
            "- Skillset Utama: Analisis data, Genetika, Proteomika, Optimasi data sets, Komunikasi terbaik (oral dan tulis dalam bahasa Inggris).\n",
            "- Posisi Relevan Sebelumnya: Saintis Pengembangan (Research Scientist) di XYZ Biotech.\n",
            "\n",
            "===== Meringkas untuk Posisi: DATA SCIENTIST =====\n",
            "\n",
            "--- Cover Letter Asli ---\n",
            "dear hiring manager,  i am writing to express my interest in the data scientist position at xyz analytics. with my strong background in data analysis and machine learning, i believe i am wellsuited for this role.  in my current position as a data scientist at def company, i have gained valuable experience in understanding existing processes and collaborating with leadership to improve data product development. i have successfully established roadmaps for analytics practices and delivered databacked insights to shape process and cultural change within the organization. my experience working in a distributed, remotefirst environment has honed my communication skills and ability to work effectively in a remote team.  i possess strong analytical and problemsolving skills, with expertise in python programming, statistical analysis, and data visualization. my ability to set milestones for teams, establish metrics, and foster collaboration has been demonstrated throughout my career. additionally, my educational background in computer science and data science has provided me with a solid foundation in data analysis and machine learning techniques.  i am excited about the opportunity to contribute to xyz analytics and help drive datadriven decisionmaking within the organization. thank you for considering my application. i look forward to the possibility of discussing my qualifications further.  sincerely, john smith\n",
            "\n",
            "--- Ringkasan oleh Model Granite ---\n",
            "- Ringkasan Pengalaman: 1+ tahun pengalaman sebagai data scientist di Def Company, dengan fokus pada analisis data dan machine learning.\n",
            "- Skillset Utama: Python (tidak disepecifikkan library tertentu), statistik, visualisasi data, pengembangan tim, penetapan mileston, dan metrik.\n",
            "- Posisi Relevan Sebelumnya: Data Scientist di Def Company.\n",
            "\n",
            "Informasi tambahan yang relevan dan informatif dari surat lamaran:\n",
            "- Kemampuan untuk memahami dan meningkatkan proses data.\n",
            "- Kemampuan bekerja dengan tim di lingkungan yang distribusi dan remote-first.\n",
            "- Pendidikan di bidang komputer dan data science yang meningkatkan dasar analitis data dan teknik machine learning.\n",
            "- Komitmen untuk membantu pengetahuan data-driven dalam organisasi XYZ Analytics.\n",
            "\n",
            "===== Meringkas untuk Posisi: DATA SCIENTIST =====\n",
            "\n",
            "--- Cover Letter Asli ---\n",
            "dear hiring manager,  i am writing to express my interest in the data scientist position at transtech solutions. with a strong background in software engineering and data analysis, i believe i have the skills and qualifications necessary to contribute to the exciting and fastgrowing transportation technology industry.  in my previous role as a software engineer at abc company, i gained experience in building scalable and performant solutions to complex problems. i have also worked as a data analyst at xyz corporation, where i honed my skills in machine learning and data analysis. my expertise in python programming and problemsolving will enable me to contribute to the invention of novel solutions to operational problems.  i am particularly excited about the opportunity to work on a distributed platform architecture design and compare benchmarks to ensure staying ahead of the competition. my knowledge in distributed computing and web scale architectures will be valuable in this role. additionally, my experience in building systems to automate manual bottlenecks and enhancing algorithms aligns well with the job requirements.  i am confident that my strong technical skills, combined with my ability to communicate effectively and work collaboratively, make me a great fit for the data scientist position at transtech solutions. i am eager to contribute to the transformation of public transit and be a part of the pioneering team shaping this industry.  thank you for considering my application. i look forward to the opportunity to discuss how my skills and qualifications align with the goals of transtech solutions.  sincerely, john smith\n",
            "\n",
            "--- Ringkasan oleh Model Granite ---\n",
            "- Ringkasan Pengalaman: 6+ tahun pengalaman dalam pekerjaan sebagian sebagai engineer perangkat lunak dan sebagian sebagai analis data.\n",
            "- Skillset Utama: Python (tidak disepecifikkan, tetapi diimplikasikan), machine learning, data analysis, problem-solving, distributed computing, web-scale architectures.\n",
            "- Posisi Relevan Sebelumnya: Engineer Perangkat Lunak di ABC Company dan Analisis Data di XYZ Corporation.\n",
            "\n",
            "===== Meringkas untuk Posisi: QUANTITATIVE DATA SCIENTIST =====\n",
            "\n",
            "--- Cover Letter Asli ---\n",
            "dear hiring manager,  i am writing to express my interest in the quantitative data scientist position at xyz corporation. with a strong background in mathematics, statistics, and data science, along with experience in programmatic modeling and risk management, i believe i am well-suited for this role.  in my current position as a data scientist at def corporation, i have successfully solved complex data science problems related to financial markets, utilizing my quantitative skills and expertise in python numpy/scipy. i have also developed source code in c++ for large distributed systems, ensuring scalability and performance.  throughout my career, i have demonstrated excellent analytical skills and a deep understanding of financial markets. my ability to communicate complex ideas effectively, both orally and in writing, has allowed me to collaborate effectively with cross-functional teams.  i hold a bachelor's degree in mathematics and have experience in financial data analysis, making me well-equipped to handle the challenges of this role. i am confident that my strong problem-solving abilities and passion for data science will make me a valuable asset to xyz corporation.  thank you for considering my application. i look forward to the opportunity to discuss how my skills and qualifications align with the needs of xyz corporation.  sincerely, john smith\n",
            "\n",
            "--- Ringkasan oleh Model Granite ---\n",
            "- Ringkasan Pengalaman: 10+ tahun pengalaman dalam data science, programmatic modeling, dan risk management; 5 tahun pengalaman di Def Corporation.\n",
            "- Skillset Utama: Python (Numpy, SciPy), C++, Statistics, Mathematics, Financial Data Analysis, Analytical Skills, Communication.\n",
            "- Posisi Relevan Sebelumnya: Data Scientist di Def Corporation.\n",
            "\n",
            "===== Meringkas untuk Posisi: SENIOR JAVA DEVELOPER =====\n",
            "\n",
            "--- Cover Letter Asli ---\n",
            "i am writing to express my interest in the senior java developer position at abc tech. with my 5 years of experience in java development, i believe i can make a significant contribution to your team. i have a deep understanding of java and its frameworks like spring and hibernate, and i have used these skills in my past and current roles to create efficient, scalable applications. i also have a solid background in sql and javascript, which i believe will be beneficial in this role. i am a fast learner, a team player, and i am always looking to improve my skills and knowledge. i am excited about this opportunity and i am confident that i can bring value to your company.\n",
            "\n",
            "--- Ringkasan oleh Model Granite ---\n",
            "- Ringkasan Pengalaman: 5 tahun pengalaman dalam pengembangan Java.\n",
            "- Skillset Utama: Java (Spring, Hibernate), SQL, JavaScript, Pengembangan Aplikasi Efektif & Skalabelan.\n",
            "- Posisi Relevan Sebelumnya: Tidak disebutkan.\n",
            "\n",
            "--- Proses Selesai ---\n"
          ]
        }
      ]
    }
  ]
}